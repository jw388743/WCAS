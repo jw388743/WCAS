{
 "cells": [
  {
   "cell_type": "code",
   "execution_count": 1,
   "metadata": {},
   "outputs": [],
   "source": [
    "import numpy as np\n",
    "import pandas as pd\n",
    "import os\n",
    "from matplotlib import pyplot as plt "
   ]
  },
  {
   "cell_type": "code",
   "execution_count": 2,
   "metadata": {},
   "outputs": [],
   "source": [
    "class_path= \"/Users/james/Documents/ADEC7430\"\n",
    "proj_path= os.path.join(class_path, \"LectureNotes\")\n",
    "raw_data_folder= os.path.join(class_path, \"RawData\")\n",
    "saved_data_folder= os.path.join(class_path, \"SavedData\")\n",
    "output_data_folder= os.path.join(class_path, \"Output\")"
   ]
  },
  {
   "cell_type": "code",
   "execution_count": 3,
   "metadata": {},
   "outputs": [],
   "source": [
    "raw_train_data_file= os.path.join(raw_data_folder, \"TitanicTrain.csv\")\n",
    "raw_train_data= pd.read_csv(raw_train_data_file)"
   ]
  },
  {
   "cell_type": "code",
   "execution_count": 4,
   "metadata": {},
   "outputs": [],
   "source": [
    "import random\n",
    "nrows= raw_train_data.shape[0]"
   ]
  },
  {
   "cell_type": "code",
   "execution_count": 5,
   "metadata": {},
   "outputs": [],
   "source": [
    "random.seed(2019)\n",
    "myrandoms= [random.uniform(0,1) for i in range(nrows)]"
   ]
  },
  {
   "cell_type": "code",
   "execution_count": 39,
   "metadata": {},
   "outputs": [],
   "source": [
    "valid_filt= [x < .3 for x in myrandoms]\n",
    "train_filt= [x>= .3 for x in myrandoms]"
   ]
  },
  {
   "cell_type": "code",
   "execution_count": 40,
   "metadata": {},
   "outputs": [
    {
     "data": {
      "text/plain": [
       "Counter({False: 627, True: 264})"
      ]
     },
     "execution_count": 40,
     "metadata": {},
     "output_type": "execute_result"
    }
   ],
   "source": [
    "import collections \n",
    "collections.Counter(valid_filt)\n",
    "#same as Razvan"
   ]
  },
  {
   "cell_type": "code",
   "execution_count": 41,
   "metadata": {},
   "outputs": [
    {
     "name": "stdout",
     "output_type": "stream",
     "text": [
      "(264, 12)\n",
      "(627, 12)\n"
     ]
    }
   ],
   "source": [
    "validation_data= raw_train_data[valid_filt]\n",
    "train_data=raw_train_data[train_filt]\n",
    "print(validation_data.shape)\n",
    "print(train_data.shape)"
   ]
  },
  {
   "cell_type": "code",
   "execution_count": 42,
   "metadata": {},
   "outputs": [],
   "source": [
    "validation_data_file= os.path.join(saved_data_folder, \"validation_data.pkl\")\n",
    "validation_data.to_pickle(validation_data_file)\n",
    "train_data_file= os.path.join(saved_data_folder, \"train_data.pkl\")\n",
    "train_data.to_pickle(train_data_file)\n",
    "del validation_data"
   ]
  },
  {
   "cell_type": "code",
   "execution_count": 43,
   "metadata": {},
   "outputs": [],
   "source": [
    "train_data = pd.read_pickle(train_data_file)"
   ]
  },
  {
   "cell_type": "code",
   "execution_count": 47,
   "metadata": {},
   "outputs": [],
   "source": [
    "def encode_embarked(df_):\n",
    "    \"\"\"df = pandas Data Frame with a variable named 'Embark' which we are encoding\"\"\"\n",
    "    df = df_.copy()\n",
    "    df['Emb_S'] = 0\n",
    "    df['Emb_C'] = 0\n",
    "    df['Emb_Q'] = 0\n",
    "    df['Emb_O'] = 0\n",
    "    filter_ = df.Embarked==\"S\"\n",
    "    df.loc[filter_, 'Emb_S'] = 1\n",
    "    filter_ = df.Embarked==\"C\"\n",
    "    df.loc[filter_, 'Emb_C'] = 1\n",
    "    filter_ = df.Embarked==\"Q\"\n",
    "    df.loc[filter_, 'Emb_Q'] = 1\n",
    "    filter_ = df.Embarked.isin(['S','C','Q'])\n",
    "    filter_.value_counts(dropna=False)\n",
    "    df.loc[~filter_, 'Emb_O'] = 1\n",
    "    return(df)"
   ]
  },
  {
   "cell_type": "code",
   "execution_count": 44,
   "metadata": {},
   "outputs": [],
   "source": [
    "def encode_sex(df_):\n",
    "    df = df_.copy() \n",
    "    df['sex_m'] = 0\n",
    "    df['sex_f'] = 0\n",
    "    df['sex_o'] = 0\n",
    "    filter_ = df.Sex==\"male\"\n",
    "    df.loc[filter_,'sex_m'] = 1\n",
    "    filter_ = df.Sex==\"female\"\n",
    "    df.loc[filter_,'sex_f'] = 1\n",
    "    filter_ = df.Sex.isin(['male','female'])\n",
    "    df.loc[~filter_,'sex_o'] = 1\n",
    "    return(df)"
   ]
  },
  {
   "cell_type": "code",
   "execution_count": 45,
   "metadata": {},
   "outputs": [],
   "source": [
    "def fill_in_nan_age(df_, which_var = 'Age', training = False):\n",
    "    df = df_.copy()\n",
    "    fill_in_nan_age.use_for_missing = 42 \n",
    "    if training:\n",
    "        fill_in_nan_age.use_for_missing = 42\n",
    "    filter_ = pd.isnull(df[which_var])\n",
    "    df.loc[filter_,which_var] = fill_in_nan_age.use_for_missing\n",
    "    return(df)"
   ]
  },
  {
   "cell_type": "code",
   "execution_count": 46,
   "metadata": {},
   "outputs": [],
   "source": [
    "def trans_drop_vars(df_):\n",
    "    df = df_.copy()\n",
    "    df.drop(columns=['Fare','Cabin','Name','Ticket', 'Embarked','Sex',], inplace=True)\n",
    "    return(df)"
   ]
  },
  {
   "cell_type": "code",
   "execution_count": 48,
   "metadata": {},
   "outputs": [],
   "source": [
    "def transform_mydata(df_, training = False):\n",
    "    df = df_.copy()\n",
    "    train1 = encode_embarked(df)\n",
    "    train2 = encode_sex(train1)\n",
    "    train3 = trans_drop_vars(train2)\n",
    "    train4 = fill_in_nan_age(train3, training = training) #@@ this is an issue for training vs validation - why???\n",
    "    return(train4)"
   ]
  },
  {
   "cell_type": "code",
   "execution_count": 49,
   "metadata": {},
   "outputs": [
    {
     "data": {
      "text/html": [
       "<div>\n",
       "<style scoped>\n",
       "    .dataframe tbody tr th:only-of-type {\n",
       "        vertical-align: middle;\n",
       "    }\n",
       "\n",
       "    .dataframe tbody tr th {\n",
       "        vertical-align: top;\n",
       "    }\n",
       "\n",
       "    .dataframe thead th {\n",
       "        text-align: right;\n",
       "    }\n",
       "</style>\n",
       "<table border=\"1\" class=\"dataframe\">\n",
       "  <thead>\n",
       "    <tr style=\"text-align: right;\">\n",
       "      <th></th>\n",
       "      <th>PassengerId</th>\n",
       "      <th>Survived</th>\n",
       "      <th>Pclass</th>\n",
       "      <th>Age</th>\n",
       "      <th>SibSp</th>\n",
       "      <th>Parch</th>\n",
       "      <th>Emb_S</th>\n",
       "      <th>Emb_C</th>\n",
       "      <th>Emb_Q</th>\n",
       "      <th>Emb_O</th>\n",
       "      <th>sex_m</th>\n",
       "      <th>sex_f</th>\n",
       "      <th>sex_o</th>\n",
       "    </tr>\n",
       "  </thead>\n",
       "  <tbody>\n",
       "    <tr>\n",
       "      <th>0</th>\n",
       "      <td>1</td>\n",
       "      <td>0</td>\n",
       "      <td>3</td>\n",
       "      <td>22.0</td>\n",
       "      <td>1</td>\n",
       "      <td>0</td>\n",
       "      <td>1</td>\n",
       "      <td>0</td>\n",
       "      <td>0</td>\n",
       "      <td>0</td>\n",
       "      <td>1</td>\n",
       "      <td>0</td>\n",
       "      <td>0</td>\n",
       "    </tr>\n",
       "    <tr>\n",
       "      <th>1</th>\n",
       "      <td>2</td>\n",
       "      <td>1</td>\n",
       "      <td>1</td>\n",
       "      <td>38.0</td>\n",
       "      <td>1</td>\n",
       "      <td>0</td>\n",
       "      <td>0</td>\n",
       "      <td>1</td>\n",
       "      <td>0</td>\n",
       "      <td>0</td>\n",
       "      <td>0</td>\n",
       "      <td>1</td>\n",
       "      <td>0</td>\n",
       "    </tr>\n",
       "    <tr>\n",
       "      <th>2</th>\n",
       "      <td>3</td>\n",
       "      <td>1</td>\n",
       "      <td>3</td>\n",
       "      <td>26.0</td>\n",
       "      <td>0</td>\n",
       "      <td>0</td>\n",
       "      <td>1</td>\n",
       "      <td>0</td>\n",
       "      <td>0</td>\n",
       "      <td>0</td>\n",
       "      <td>0</td>\n",
       "      <td>1</td>\n",
       "      <td>0</td>\n",
       "    </tr>\n",
       "    <tr>\n",
       "      <th>4</th>\n",
       "      <td>5</td>\n",
       "      <td>0</td>\n",
       "      <td>3</td>\n",
       "      <td>35.0</td>\n",
       "      <td>0</td>\n",
       "      <td>0</td>\n",
       "      <td>1</td>\n",
       "      <td>0</td>\n",
       "      <td>0</td>\n",
       "      <td>0</td>\n",
       "      <td>1</td>\n",
       "      <td>0</td>\n",
       "      <td>0</td>\n",
       "    </tr>\n",
       "    <tr>\n",
       "      <th>5</th>\n",
       "      <td>6</td>\n",
       "      <td>0</td>\n",
       "      <td>3</td>\n",
       "      <td>42.0</td>\n",
       "      <td>0</td>\n",
       "      <td>0</td>\n",
       "      <td>0</td>\n",
       "      <td>0</td>\n",
       "      <td>1</td>\n",
       "      <td>0</td>\n",
       "      <td>1</td>\n",
       "      <td>0</td>\n",
       "      <td>0</td>\n",
       "    </tr>\n",
       "  </tbody>\n",
       "</table>\n",
       "</div>"
      ],
      "text/plain": [
       "   PassengerId  Survived  Pclass   Age  SibSp  Parch  Emb_S  Emb_C  Emb_Q  \\\n",
       "0            1         0       3  22.0      1      0      1      0      0   \n",
       "1            2         1       1  38.0      1      0      0      1      0   \n",
       "2            3         1       3  26.0      0      0      1      0      0   \n",
       "4            5         0       3  35.0      0      0      1      0      0   \n",
       "5            6         0       3  42.0      0      0      0      0      1   \n",
       "\n",
       "   Emb_O  sex_m  sex_f  sex_o  \n",
       "0      0      1      0      0  \n",
       "1      0      0      1      0  \n",
       "2      0      0      1      0  \n",
       "4      0      1      0      0  \n",
       "5      0      1      0      0  "
      ]
     },
     "execution_count": 49,
     "metadata": {},
     "output_type": "execute_result"
    }
   ],
   "source": [
    "newdf_train= transform_mydata(train_data, training=True)\n",
    "newdf_train.head()"
   ]
  },
  {
   "cell_type": "code",
   "execution_count": 50,
   "metadata": {},
   "outputs": [
    {
     "name": "stdout",
     "output_type": "stream",
     "text": [
      "(627, 13)\n"
     ]
    }
   ],
   "source": [
    "print(newdf_train.shape)"
   ]
  },
  {
   "cell_type": "code",
   "execution_count": 51,
   "metadata": {},
   "outputs": [
    {
     "name": "stdout",
     "output_type": "stream",
     "text": [
      "(264, 13)\n"
     ]
    }
   ],
   "source": [
    "valid_data = pd.read_pickle(validation_data_file)\n",
    "new_valid= transform_mydata(valid_data, training=False)\n",
    "print(new_valid.shape)"
   ]
  },
  {
   "cell_type": "code",
   "execution_count": 54,
   "metadata": {},
   "outputs": [],
   "source": [
    "import sklearn\n",
    "from sklearn import neighbors"
   ]
  },
  {
   "cell_type": "code",
   "execution_count": 55,
   "metadata": {},
   "outputs": [],
   "source": [
    "nbrs= sklearn.neighbors.KNeighborsRegressor(n_neighbors=3)"
   ]
  },
  {
   "cell_type": "code",
   "execution_count": 56,
   "metadata": {},
   "outputs": [],
   "source": [
    "y_train= newdf_train['Survived']\n",
    "x_train=newdf_train.copy().drop(columns=[\"PassengerId\", \"Survived\"])\n",
    "x_train_array = x_train.values"
   ]
  },
  {
   "cell_type": "code",
   "execution_count": 57,
   "metadata": {},
   "outputs": [
    {
     "data": {
      "text/plain": [
       "KNeighborsRegressor(algorithm='auto', leaf_size=30, metric='minkowski',\n",
       "                    metric_params=None, n_jobs=None, n_neighbors=3, p=2,\n",
       "                    weights='uniform')"
      ]
     },
     "execution_count": 57,
     "metadata": {},
     "output_type": "execute_result"
    }
   ],
   "source": [
    "nbrs.fit(x_train_array, y_train)"
   ]
  },
  {
   "cell_type": "code",
   "execution_count": 58,
   "metadata": {},
   "outputs": [],
   "source": [
    "x_train_prob=nbrs.predict(x_train_array)"
   ]
  },
  {
   "cell_type": "code",
   "execution_count": 59,
   "metadata": {},
   "outputs": [],
   "source": [
    "x_train_pred = [int(x < .33) for x in x_train_prob]"
   ]
  },
  {
   "cell_type": "code",
   "execution_count": 60,
   "metadata": {},
   "outputs": [
    {
     "data": {
      "text/html": [
       "<div>\n",
       "<style scoped>\n",
       "    .dataframe tbody tr th:only-of-type {\n",
       "        vertical-align: middle;\n",
       "    }\n",
       "\n",
       "    .dataframe tbody tr th {\n",
       "        vertical-align: top;\n",
       "    }\n",
       "\n",
       "    .dataframe thead th {\n",
       "        text-align: right;\n",
       "    }\n",
       "</style>\n",
       "<table border=\"1\" class=\"dataframe\">\n",
       "  <thead>\n",
       "    <tr style=\"text-align: right;\">\n",
       "      <th>col_0</th>\n",
       "      <th>0</th>\n",
       "      <th>1</th>\n",
       "    </tr>\n",
       "    <tr>\n",
       "      <th>row_0</th>\n",
       "      <th></th>\n",
       "      <th></th>\n",
       "    </tr>\n",
       "  </thead>\n",
       "  <tbody>\n",
       "    <tr>\n",
       "      <th>0</th>\n",
       "      <td>123</td>\n",
       "      <td>223</td>\n",
       "    </tr>\n",
       "    <tr>\n",
       "      <th>1</th>\n",
       "      <td>271</td>\n",
       "      <td>10</td>\n",
       "    </tr>\n",
       "  </tbody>\n",
       "</table>\n",
       "</div>"
      ],
      "text/plain": [
       "col_0    0    1\n",
       "row_0          \n",
       "0      123  223\n",
       "1      271   10"
      ]
     },
     "execution_count": 60,
     "metadata": {},
     "output_type": "execute_result"
    }
   ],
   "source": [
    "pd.crosstab(np.array(x_train_pred), np.array(y_train))"
   ]
  },
  {
   "cell_type": "code",
   "execution_count": 61,
   "metadata": {},
   "outputs": [],
   "source": [
    "def confusionMatrixInfo(p,a, labels = None):\n",
    "    from sklearn import metrics as skm\n",
    "    from sklearn.metrics import confusion_matrix as skm_conf_mat\n",
    "    import sys\n",
    "    #\n",
    "#    p = pd.Series([1,1,1,0,0,0,0,0,0,0])\n",
    "#    a = pd.Series([1,0,0,1,1,1,0,0,0,0])\n",
    "#    labels = [1,0]\n",
    "#\n",
    "#    x = skm.confusion_matrix(a,p,labels=labels)\n",
    "    if 'sklearn' not in sys.modules:\n",
    "        import sklearn\n",
    "    x = skm_conf_mat(a,p, labels = labels)\n",
    "    tp = x[0,0]\n",
    "    tn = x[1,1]\n",
    "    fp = x[1,0]\n",
    "    fn = x[0,1]\n",
    "    # tp, fp, fn, tn # test order\n",
    "    \n",
    "    tsensitivity = tp/(tp+fn)\n",
    "    tspecificity = tn/(tn + fp)\n",
    "    # no information rate?\n",
    "    tnir = (tp + fn)/x.sum()\n",
    "    tnir = max(tnir, 1-tnir)\n",
    "    # accuracy\n",
    "    taccuracy = (tp + tn)/x.sum()\n",
    "    \n",
    "    res = {'confusionMatrix':x,\n",
    "           'accuracy': taccuracy,\n",
    "           'no information rate': tnir,\n",
    "           'sensitivity': tsensitivity,\n",
    "           'specificity': tspecificity\n",
    "           }\n",
    "    return(res)"
   ]
  },
  {
   "cell_type": "code",
   "execution_count": 62,
   "metadata": {},
   "outputs": [
    {
     "data": {
      "text/plain": [
       "{'confusionMatrix': array([[123, 271],\n",
       "        [223,  10]]),\n",
       " 'accuracy': 0.21212121212121213,\n",
       " 'no information rate': 0.6283891547049442,\n",
       " 'sensitivity': 0.31218274111675126,\n",
       " 'specificity': 0.04291845493562232}"
      ]
     },
     "execution_count": 62,
     "metadata": {},
     "output_type": "execute_result"
    }
   ],
   "source": [
    "confusionMatrixInfo(np.array(x_train_pred), np.array(y_train))"
   ]
  },
  {
   "cell_type": "code",
   "execution_count": 64,
   "metadata": {},
   "outputs": [],
   "source": [
    "x_valid=new_valid.copy().drop(columns=[\"PassengerId\", \"Survived\"])\n",
    "y_valid=new_valid[\"Survived\"]"
   ]
  },
  {
   "cell_type": "code",
   "execution_count": 65,
   "metadata": {},
   "outputs": [],
   "source": [
    "x_valid2 = x_valid.values"
   ]
  },
  {
   "cell_type": "code",
   "execution_count": 66,
   "metadata": {},
   "outputs": [
    {
     "data": {
      "text/plain": [
       "KNeighborsRegressor(algorithm='auto', leaf_size=30, metric='minkowski',\n",
       "                    metric_params=None, n_jobs=None, n_neighbors=3, p=2,\n",
       "                    weights='uniform')"
      ]
     },
     "execution_count": 66,
     "metadata": {},
     "output_type": "execute_result"
    }
   ],
   "source": [
    "nbrs.fit(x_valid2, y_valid)"
   ]
  },
  {
   "cell_type": "code",
   "execution_count": 67,
   "metadata": {},
   "outputs": [],
   "source": [
    "x_valid2_prob=nbrs.predict(x_valid2)"
   ]
  },
  {
   "cell_type": "code",
   "execution_count": 68,
   "metadata": {},
   "outputs": [],
   "source": [
    "x_valid2_pred = [int(x < .33) for x in x_valid2_prob]"
   ]
  },
  {
   "cell_type": "code",
   "execution_count": 69,
   "metadata": {},
   "outputs": [
    {
     "data": {
      "text/html": [
       "<div>\n",
       "<style scoped>\n",
       "    .dataframe tbody tr th:only-of-type {\n",
       "        vertical-align: middle;\n",
       "    }\n",
       "\n",
       "    .dataframe tbody tr th {\n",
       "        vertical-align: top;\n",
       "    }\n",
       "\n",
       "    .dataframe thead th {\n",
       "        text-align: right;\n",
       "    }\n",
       "</style>\n",
       "<table border=\"1\" class=\"dataframe\">\n",
       "  <thead>\n",
       "    <tr style=\"text-align: right;\">\n",
       "      <th>col_0</th>\n",
       "      <th>0</th>\n",
       "      <th>1</th>\n",
       "    </tr>\n",
       "    <tr>\n",
       "      <th>row_0</th>\n",
       "      <th></th>\n",
       "      <th></th>\n",
       "    </tr>\n",
       "  </thead>\n",
       "  <tbody>\n",
       "    <tr>\n",
       "      <th>0</th>\n",
       "      <td>48</td>\n",
       "      <td>105</td>\n",
       "    </tr>\n",
       "    <tr>\n",
       "      <th>1</th>\n",
       "      <td>107</td>\n",
       "      <td>4</td>\n",
       "    </tr>\n",
       "  </tbody>\n",
       "</table>\n",
       "</div>"
      ],
      "text/plain": [
       "col_0    0    1\n",
       "row_0          \n",
       "0       48  105\n",
       "1      107    4"
      ]
     },
     "execution_count": 69,
     "metadata": {},
     "output_type": "execute_result"
    }
   ],
   "source": [
    "pd.crosstab(np.array(x_valid2_pred), np.array(y_valid))"
   ]
  },
  {
   "cell_type": "code",
   "execution_count": 70,
   "metadata": {},
   "outputs": [
    {
     "data": {
      "text/plain": [
       "{'confusionMatrix': array([[ 48, 107],\n",
       "        [105,   4]]),\n",
       " 'accuracy': 0.19696969696969696,\n",
       " 'no information rate': 0.5871212121212122,\n",
       " 'sensitivity': 0.3096774193548387,\n",
       " 'specificity': 0.03669724770642202}"
      ]
     },
     "execution_count": 70,
     "metadata": {},
     "output_type": "execute_result"
    }
   ],
   "source": [
    "confusionMatrixInfo(np.array(x_valid2_pred), np.array(y_valid))"
   ]
  }
 ],
 "metadata": {
  "kernelspec": {
   "display_name": "Python 3",
   "language": "python",
   "name": "python3"
  },
  "language_info": {
   "codemirror_mode": {
    "name": "ipython",
    "version": 3
   },
   "file_extension": ".py",
   "mimetype": "text/x-python",
   "name": "python",
   "nbconvert_exporter": "python",
   "pygments_lexer": "ipython3",
   "version": "3.7.3"
  }
 },
 "nbformat": 4,
 "nbformat_minor": 4
}
